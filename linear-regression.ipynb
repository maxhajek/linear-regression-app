{
 "cells": [
  {
   "cell_type": "code",
   "execution_count": 3,
   "metadata": {},
   "outputs": [],
   "source": [
    "import os\n",
    "import pandas as pd"
   ]
  },
  {
   "cell_type": "code",
   "execution_count": 4,
   "metadata": {},
   "outputs": [
    {
     "data": {
      "text/plain": [
       "['Basisdatenkatalog_2022_2.csv', 'Uebersicht_Basisdatenkatalog_3.csv']"
      ]
     },
     "execution_count": 4,
     "metadata": {},
     "output_type": "execute_result"
    }
   ],
   "source": [
    "os.listdir('data')"
   ]
  },
  {
   "cell_type": "code",
   "execution_count": 21,
   "metadata": {},
   "outputs": [
    {
     "data": {
      "text/html": [
       "<div>\n",
       "<style scoped>\n",
       "    .dataframe tbody tr th:only-of-type {\n",
       "        vertical-align: middle;\n",
       "    }\n",
       "\n",
       "    .dataframe tbody tr th {\n",
       "        vertical-align: top;\n",
       "    }\n",
       "\n",
       "    .dataframe thead th {\n",
       "        text-align: right;\n",
       "    }\n",
       "</style>\n",
       "<table border=\"1\" class=\"dataframe\">\n",
       "  <thead>\n",
       "    <tr style=\"text-align: right;\">\n",
       "      <th></th>\n",
       "      <th>Nr</th>\n",
       "      <th>Merkmal</th>\n",
       "      <th>Schlüssel</th>\n",
       "      <th>Quelle</th>\n",
       "    </tr>\n",
       "  </thead>\n",
       "  <tbody>\n",
       "    <tr>\n",
       "      <th>0</th>\n",
       "      <td>1</td>\n",
       "      <td>Einwohner*innen, gesamt</td>\n",
       "      <td>A0025A</td>\n",
       "      <td>Stadt Köln - Amt für Stadtentwicklung und Stat...</td>\n",
       "    </tr>\n",
       "  </tbody>\n",
       "</table>\n",
       "</div>"
      ],
      "text/plain": [
       "   Nr                  Merkmal Schlüssel  \\\n",
       "0   1  Einwohner*innen, gesamt    A0025A   \n",
       "\n",
       "                                              Quelle  \n",
       "0  Stadt Köln - Amt für Stadtentwicklung und Stat...  "
      ]
     },
     "execution_count": 21,
     "metadata": {},
     "output_type": "execute_result"
    }
   ],
   "source": [
    "overview = pd.read_csv('data/Uebersicht_Basisdatenkatalog_3.csv', sep=';')\n",
    "overview.head(1)"
   ]
  },
  {
   "cell_type": "code",
   "execution_count": 22,
   "metadata": {},
   "outputs": [
    {
     "data": {
      "text/html": [
       "<div>\n",
       "<style scoped>\n",
       "    .dataframe tbody tr th:only-of-type {\n",
       "        vertical-align: middle;\n",
       "    }\n",
       "\n",
       "    .dataframe tbody tr th {\n",
       "        vertical-align: top;\n",
       "    }\n",
       "\n",
       "    .dataframe thead th {\n",
       "        text-align: right;\n",
       "    }\n",
       "</style>\n",
       "<table border=\"1\" class=\"dataframe\">\n",
       "  <thead>\n",
       "    <tr style=\"text-align: right;\">\n",
       "      <th></th>\n",
       "      <th>Nummer</th>\n",
       "      <th>Statistisches Quartier</th>\n",
       "      <th>A0002A</th>\n",
       "      <th>A0022S</th>\n",
       "      <th>A0025A</th>\n",
       "      <th>A0027A</th>\n",
       "      <th>A0029A</th>\n",
       "      <th>A0035A</th>\n",
       "      <th>A0043A</th>\n",
       "      <th>A0060A</th>\n",
       "      <th>...</th>\n",
       "      <th>H0043A</th>\n",
       "      <th>H0044A</th>\n",
       "      <th>H0045A</th>\n",
       "      <th>H0046A</th>\n",
       "      <th>H0047A</th>\n",
       "      <th>H0048A</th>\n",
       "      <th>H0049S</th>\n",
       "      <th>H0050S</th>\n",
       "      <th>H0051S</th>\n",
       "      <th>H0052S</th>\n",
       "    </tr>\n",
       "  </thead>\n",
       "  <tbody>\n",
       "    <tr>\n",
       "      <th>0</th>\n",
       "      <td>101010001</td>\n",
       "      <td>Kapitol-Viertel</td>\n",
       "      <td>298</td>\n",
       "      <td>42,75307174</td>\n",
       "      <td>1682</td>\n",
       "      <td>102</td>\n",
       "      <td>23</td>\n",
       "      <td>11</td>\n",
       "      <td>26</td>\n",
       "      <td>69</td>\n",
       "      <td>...</td>\n",
       "      <td>*</td>\n",
       "      <td>0</td>\n",
       "      <td>25</td>\n",
       "      <td>30</td>\n",
       "      <td>41</td>\n",
       "      <td>0</td>\n",
       "      <td>1700,778271</td>\n",
       "      <td>193,4922737</td>\n",
       "      <td>98,95584989</td>\n",
       "      <td>331,1533888</td>\n",
       "    </tr>\n",
       "  </tbody>\n",
       "</table>\n",
       "<p>1 rows × 131 columns</p>\n",
       "</div>"
      ],
      "text/plain": [
       "      Nummer Statistisches Quartier  A0002A       A0022S  A0025A  A0027A  \\\n",
       "0  101010001        Kapitol-Viertel     298  42,75307174    1682     102   \n",
       "\n",
       "   A0029A  A0035A A0043A  A0060A  ...  H0043A  H0044A H0045A  H0046A H0047A  \\\n",
       "0      23      11     26      69  ...       *       0     25      30     41   \n",
       "\n",
       "  H0048A       H0049S       H0050S       H0051S       H0052S  \n",
       "0      0  1700,778271  193,4922737  98,95584989  331,1533888  \n",
       "\n",
       "[1 rows x 131 columns]"
      ]
     },
     "execution_count": 22,
     "metadata": {},
     "output_type": "execute_result"
    }
   ],
   "source": [
    "base = pd.read_csv('data/Basisdatenkatalog_2022_2.csv', sep=';', encoding='latin-1')\n",
    "base.head(1)"
   ]
  },
  {
   "cell_type": "code",
   "execution_count": null,
   "metadata": {},
   "outputs": [],
   "source": []
  }
 ],
 "metadata": {
  "kernelspec": {
   "display_name": "venv",
   "language": "python",
   "name": "python3"
  },
  "language_info": {
   "codemirror_mode": {
    "name": "ipython",
    "version": 3
   },
   "file_extension": ".py",
   "mimetype": "text/x-python",
   "name": "python",
   "nbconvert_exporter": "python",
   "pygments_lexer": "ipython3",
   "version": "3.12.1"
  }
 },
 "nbformat": 4,
 "nbformat_minor": 2
}
